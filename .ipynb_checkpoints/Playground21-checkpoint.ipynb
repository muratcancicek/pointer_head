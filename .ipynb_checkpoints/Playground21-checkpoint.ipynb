{
 "cells": [
  {
   "cell_type": "code",
   "execution_count": 1,
   "metadata": {},
   "outputs": [],
   "source": [
    "from data_handler.DataHandler import DataHandler"
   ]
  },
  {
   "cell_type": "code",
   "execution_count": 2,
   "metadata": {},
   "outputs": [
    {
     "name": "stdout",
     "output_type": "stream",
     "text": [
      "\r",
      "horizontal has been read\r",
      "\r",
      "horizontal_part1_slow has been read\r",
      "\r",
      "horizontal_part2_slow has been read\r",
      "\r",
      "infinity has been read\r",
      "\r",
      "infinity_slow has been read\r",
      "\r",
      "random1 has been read\r",
      "\r",
      "random1_slow has been read\r",
      "\r",
      "random4 has been read\r",
      "\r",
      "random4_slow has been read\r",
      "\r",
      "random5 has been read\r",
      "\r",
      "random5_slow has been read\r",
      "\r",
      "vertical has been read\r",
      "\r",
      "vertical_part1_slow has been read\r",
      "\r",
      "vertical_part2_slow has been read\r",
      "\r",
      "zigzag has been read\r",
      "\r",
      "zigzag_part1_slow has been read\r",
      "\r",
      "zigzag_part2_slow has been read\r"
     ]
    }
   ],
   "source": [
    "handler = DataHandler(readAllDataNow = True) "
   ]
  },
  {
   "cell_type": "code",
   "execution_count": null,
   "metadata": {},
   "outputs": [],
   "source": [
    "h"
   ]
  }
 ],
 "metadata": {
  "kernelspec": {
   "display_name": "Python 3",
   "language": "python",
   "name": "python3"
  },
  "language_info": {
   "codemirror_mode": {
    "name": "ipython",
    "version": 3
   },
   "file_extension": ".py",
   "mimetype": "text/x-python",
   "name": "python",
   "nbconvert_exporter": "python",
   "pygments_lexer": "ipython3",
   "version": "3.6.4"
  }
 },
 "nbformat": 4,
 "nbformat_minor": 2
}
