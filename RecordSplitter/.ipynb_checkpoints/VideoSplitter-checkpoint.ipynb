{
 "cells": [
  {
   "cell_type": "code",
   "execution_count": 1,
   "metadata": {},
   "outputs": [],
   "source": [
    "from runRecordSplitter import *\n",
    "from datetime import datetime\n",
    "from scipy.io import wavfile\n",
    "import pandas as pd\n",
    "import numpy as np\n",
    "import cv2\n",
    "import os"
   ]
  },
  {
   "cell_type": "code",
   "execution_count": 3,
   "metadata": {},
   "outputs": [
    {
     "ename": "ValueError",
     "evalue": "range() arg 3 must not be zero",
     "output_type": "error",
     "traceback": [
      "\u001b[1;31m---------------------------------------------------------------------------\u001b[0m",
      "\u001b[1;31mValueError\u001b[0m                                Traceback (most recent call last)",
      "\u001b[1;32m<ipython-input-3-cee94496c280>\u001b[0m in \u001b[0;36m<module>\u001b[1;34m\u001b[0m\n\u001b[0;32m      3\u001b[0m \u001b[0msubject\u001b[0m \u001b[1;33m=\u001b[0m \u001b[1;34m'P%s'\u001b[0m \u001b[1;33m%\u001b[0m \u001b[0msubjectID\u001b[0m\u001b[1;33m\u001b[0m\u001b[0m\n\u001b[0;32m      4\u001b[0m \u001b[0m_\u001b[0m\u001b[1;33m,\u001b[0m \u001b[0mmeetingAudio\u001b[0m \u001b[1;33m=\u001b[0m \u001b[0mreadMeetingAudio\u001b[0m\u001b[1;33m(\u001b[0m\u001b[1;34m'Files/%s.wav'\u001b[0m \u001b[1;33m%\u001b[0m \u001b[0msubject\u001b[0m\u001b[1;33m)\u001b[0m\u001b[1;33m\u001b[0m\u001b[0m\n\u001b[1;32m----> 5\u001b[1;33m \u001b[0mbeeps\u001b[0m \u001b[1;33m=\u001b[0m \u001b[0mdetectBeeps\u001b[0m\u001b[1;33m(\u001b[0m\u001b[0mmeetingAudio\u001b[0m\u001b[1;33m,\u001b[0m \u001b[0mbeepAudio\u001b[0m\u001b[1;33m,\u001b[0m \u001b[0mbeepAudio_sr\u001b[0m\u001b[1;33m)\u001b[0m\u001b[1;33m\u001b[0m\u001b[0m\n\u001b[0m\u001b[0;32m      6\u001b[0m \u001b[0mtrails\u001b[0m \u001b[1;33m=\u001b[0m \u001b[0mgetTrailsInfo\u001b[0m\u001b[1;33m(\u001b[0m\u001b[1;33m)\u001b[0m\u001b[1;33m\u001b[0m\u001b[0m\n\u001b[0;32m      7\u001b[0m \u001b[0mdf\u001b[0m \u001b[1;33m=\u001b[0m \u001b[0mgetTrailIntervalsDataFrame\u001b[0m\u001b[1;33m(\u001b[0m\u001b[0mbeeps\u001b[0m\u001b[1;33m,\u001b[0m \u001b[0mtrails\u001b[0m\u001b[1;33m,\u001b[0m \u001b[0mbeepAudio_sr\u001b[0m\u001b[1;33m)\u001b[0m\u001b[1;33m\u001b[0m\u001b[0m\n",
      "\u001b[1;32m~\\Documents\\Offline_Projects\\pointer_head\\RecordSplitter\\runRecordSplitter.py\u001b[0m in \u001b[0;36mdetectBeeps\u001b[1;34m(meetingAudio, beepAudio, sampleRate)\u001b[0m\n\u001b[0;32m     75\u001b[0m \u001b[1;33m\u001b[0m\u001b[0m\n\u001b[0;32m     76\u001b[0m \u001b[1;32mdef\u001b[0m \u001b[0mdetectBeeps\u001b[0m\u001b[1;33m(\u001b[0m\u001b[0mmeetingAudio\u001b[0m\u001b[1;33m,\u001b[0m \u001b[0mbeepAudio\u001b[0m\u001b[1;33m,\u001b[0m \u001b[0msampleRate\u001b[0m\u001b[1;33m)\u001b[0m\u001b[1;33m:\u001b[0m\u001b[1;33m\u001b[0m\u001b[0m\n\u001b[1;32m---> 77\u001b[1;33m     \u001b[0mbeepIntervals\u001b[0m \u001b[1;33m=\u001b[0m \u001b[0mgetBeepIntervals\u001b[0m\u001b[1;33m(\u001b[0m\u001b[0mmeetingAudio\u001b[0m\u001b[1;33m,\u001b[0m \u001b[0mbeepAudio\u001b[0m\u001b[1;33m,\u001b[0m \u001b[0msampleRate\u001b[0m\u001b[1;33m)\u001b[0m\u001b[1;33m\u001b[0m\u001b[0m\n\u001b[0m\u001b[0;32m     78\u001b[0m     \u001b[0mbeeps\u001b[0m \u001b[1;33m=\u001b[0m \u001b[1;33m[\u001b[0m\u001b[1;33m]\u001b[0m\u001b[1;33m\u001b[0m\u001b[0m\n\u001b[0;32m     79\u001b[0m     \u001b[1;32mfor\u001b[0m \u001b[0mbeginIndex\u001b[0m\u001b[1;33m,\u001b[0m \u001b[0mendIndex\u001b[0m\u001b[1;33m,\u001b[0m \u001b[0mcorr\u001b[0m \u001b[1;32min\u001b[0m \u001b[0mbeepIntervals\u001b[0m\u001b[1;33m:\u001b[0m\u001b[1;33m\u001b[0m\u001b[0m\n",
      "\u001b[1;32m~\\Documents\\Offline_Projects\\pointer_head\\RecordSplitter\\runRecordSplitter.py\u001b[0m in \u001b[0;36mgetBeepIntervals\u001b[1;34m(meetingAudio, beepAudio, sampleRate, volThreshold, beepConfidence, corrWaveLen, minNoiseLength)\u001b[0m\n\u001b[0;32m     60\u001b[0m     \u001b[1;32mfor\u001b[0m \u001b[0mbeginIndex\u001b[0m\u001b[1;33m,\u001b[0m \u001b[0mendIndex\u001b[0m \u001b[1;32min\u001b[0m \u001b[0mnoiseIntervals\u001b[0m\u001b[1;33m:\u001b[0m\u001b[1;33m\u001b[0m\u001b[0m\n\u001b[0;32m     61\u001b[0m         \u001b[0mnoise\u001b[0m \u001b[1;33m=\u001b[0m \u001b[0mmeetingAudio\u001b[0m\u001b[1;33m[\u001b[0m\u001b[0mbeginIndex\u001b[0m\u001b[1;33m:\u001b[0m\u001b[0mendIndex\u001b[0m\u001b[1;33m]\u001b[0m\u001b[1;33m\u001b[0m\u001b[0m\n\u001b[1;32m---> 62\u001b[1;33m         \u001b[0mcorr\u001b[0m \u001b[1;33m=\u001b[0m \u001b[0mfindTrueCorrelation\u001b[0m\u001b[1;33m(\u001b[0m\u001b[0mnoise\u001b[0m\u001b[1;33m,\u001b[0m \u001b[0mbeepAudio\u001b[0m\u001b[1;33m,\u001b[0m \u001b[0mcorrWaveLen\u001b[0m\u001b[1;33m)\u001b[0m\u001b[1;33m\u001b[0m\u001b[0m\n\u001b[0m\u001b[0;32m     63\u001b[0m         \u001b[1;32mif\u001b[0m \u001b[0mcorr\u001b[0m \u001b[1;33m>\u001b[0m \u001b[0mbeepConfidence\u001b[0m\u001b[1;33m:\u001b[0m\u001b[1;33m\u001b[0m\u001b[0m\n\u001b[0;32m     64\u001b[0m             \u001b[0mbeepIntervals\u001b[0m\u001b[1;33m.\u001b[0m\u001b[0mappend\u001b[0m\u001b[1;33m(\u001b[0m\u001b[1;33m(\u001b[0m\u001b[0mbeginIndex\u001b[0m\u001b[1;33m,\u001b[0m \u001b[0mendIndex\u001b[0m\u001b[1;33m,\u001b[0m \u001b[0mcorr\u001b[0m\u001b[1;33m)\u001b[0m\u001b[1;33m)\u001b[0m\u001b[1;33m\u001b[0m\u001b[0m\n",
      "\u001b[1;32m~\\Documents\\Offline_Projects\\pointer_head\\RecordSplitter\\runRecordSplitter.py\u001b[0m in \u001b[0;36mfindTrueCorrelation\u001b[1;34m(audio, fltr, corrWaveLen)\u001b[0m\n\u001b[0;32m     44\u001b[0m         \u001b[0mwindows\u001b[0m \u001b[1;33m=\u001b[0m \u001b[0mrolling_window\u001b[0m\u001b[1;33m(\u001b[0m\u001b[0maudio\u001b[0m\u001b[1;33m,\u001b[0m \u001b[0mlen\u001b[0m\u001b[1;33m(\u001b[0m\u001b[0mfltr\u001b[0m\u001b[1;33m)\u001b[0m\u001b[1;33m)\u001b[0m\u001b[1;33m\u001b[0m\u001b[0m\n\u001b[0;32m     45\u001b[0m         windows = [windows[i] for i in \n\u001b[1;32m---> 46\u001b[1;33m                    range(0, len(windows), int(len(windows)/10))]\n\u001b[0m\u001b[0;32m     47\u001b[0m         \u001b[0mcorrs\u001b[0m \u001b[1;33m=\u001b[0m \u001b[1;33m[\u001b[0m\u001b[0mnp\u001b[0m\u001b[1;33m.\u001b[0m\u001b[0mcorrcoef\u001b[0m\u001b[1;33m(\u001b[0m\u001b[0mrow\u001b[0m\u001b[1;33m,\u001b[0m \u001b[0mfltr\u001b[0m\u001b[1;33m)\u001b[0m\u001b[1;33m[\u001b[0m\u001b[1;36m0\u001b[0m\u001b[1;33m,\u001b[0m \u001b[1;36m1\u001b[0m\u001b[1;33m]\u001b[0m \u001b[1;32mfor\u001b[0m \u001b[0mrow\u001b[0m \u001b[1;32min\u001b[0m \u001b[0mwindows\u001b[0m\u001b[1;33m]\u001b[0m\u001b[1;33m\u001b[0m\u001b[0m\n\u001b[0;32m     48\u001b[0m     \u001b[1;32melse\u001b[0m\u001b[1;33m:\u001b[0m\u001b[1;33m\u001b[0m\u001b[0m\n",
      "\u001b[1;31mValueError\u001b[0m: range() arg 3 must not be zero"
     ]
    }
   ],
   "source": [
    "beepAudio_sr, beepAudio = wavfile.read('Files/beep.wav')\n",
    "subjectID = '3'\n",
    "subject = 'P%s' % subjectID\n",
    "_, meetingAudio = readMeetingAudio('Files/%s.wav' % subject)\n",
    "beeps = detectBeeps(meetingAudio, beepAudio, beepAudio_sr)\n",
    "trails = getTrailsInfo()\n",
    "df = getTrailIntervalsDataFrame(beeps, trails, beepAudio_sr)\n",
    "#print(df['BeginFrame'])\n",
    "p = 'C:\\\\cStorage\\\\Datasets\\\\WhiteBallExp\\\\Subjects\\\\Actual Zoom Recordings\\\\%s.mp4' % subject"
   ]
  },
  {
   "cell_type": "code",
   "execution_count": null,
   "metadata": {
    "scrolled": true
   },
   "outputs": [],
   "source": [
    "df"
   ]
  },
  {
   "cell_type": "code",
   "execution_count": 4,
   "metadata": {},
   "outputs": [
    {
     "data": {
      "text/plain": [
       "17"
      ]
     },
     "execution_count": 4,
     "metadata": {},
     "output_type": "execute_result"
    }
   ],
   "source": [
    "len(df)"
   ]
  },
  {
   "cell_type": "code",
   "execution_count": null,
   "metadata": {},
   "outputs": [],
   "source": [
    "video = openVideo(p)"
   ]
  },
  {
   "cell_type": "code",
   "execution_count": 5,
   "metadata": {},
   "outputs": [
    {
     "name": "stdout",
     "output_type": "stream",
     "text": [
      "1\\horizontal_1_2021-02-02_21-14-24.avi will be written\n",
      "1\\random1_1_2021-02-02_21-15-06.avi will be written\n",
      "1\\zigzag_part1_slow_1_2021-02-02_21-15-26.avi will be written\n",
      "1\\random4_1_2021-02-02_21-16-12.avi will be written\n",
      "1\\vertical_1_2021-02-02_21-16-35.avi will be written\n",
      "1\\random5_1_2021-02-02_21-17-20.avi will be written\n",
      "1\\zigzag_1_2021-02-02_21-17-34.avi will be written\n",
      "1\\infinity_1_2021-02-02_21-18-07.avi will be written\n",
      "1\\vertical_part1_slow_1_2021-02-02_21-18-16.avi will be written\n",
      "1\\horizontal_part1_slow_1_2021-02-02_21-19-02.avi will be written\n",
      "1\\random5_slow_1_2021-02-02_21-19-37.avi will be written\n",
      "1\\random4_slow_1_2021-02-02_21-19-55.avi will be written\n",
      "1\\random1_slow_1_2021-02-02_21-20-27.avi will be written\n",
      "1\\zigzag_part1_slow_1_2021-02-02_21-20-53.avi will be written\n",
      "1\\zigzag_part1_slow_1_2021-02-02_21-21-31.avi will be written\n",
      "1\\horizontal_part1_slow_1_2021-02-02_21-22-09.avi will be written\n",
      "1\\infinity_slow_1_2021-02-02_21-22-47.avi will be written\n"
     ]
    }
   ],
   "source": [
    "for i in range(len(df)):\n",
    "    t = df.iloc[i]\n",
    "    writeTrailRecording(video, subjectID, df.index[i], t['BeginFrame'], t['TrailFrameCount'])"
   ]
  },
  {
   "cell_type": "code",
   "execution_count": null,
   "metadata": {},
   "outputs": [],
   "source": []
  }
 ],
 "metadata": {
  "kernelspec": {
   "display_name": "Python 3",
   "language": "python",
   "name": "python3"
  },
  "language_info": {
   "codemirror_mode": {
    "name": "ipython",
    "version": 3
   },
   "file_extension": ".py",
   "mimetype": "text/x-python",
   "name": "python",
   "nbconvert_exporter": "python",
   "pygments_lexer": "ipython3",
   "version": "3.6.4"
  }
 },
 "nbformat": 4,
 "nbformat_minor": 2
}
