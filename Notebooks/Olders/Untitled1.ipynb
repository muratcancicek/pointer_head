{
 "cells": [
  {
   "cell_type": "code",
   "execution_count": 2,
   "metadata": {},
   "outputs": [
    {
     "name": "stderr",
     "output_type": "stream",
     "text": [
      "Using TensorFlow backend.\n"
     ]
    }
   ],
   "source": [
    "from data_handler.DataHandler import DataHandler\n",
    "from simple_ml_exp.KerasRunner import KerasRunner"
   ]
  },
  {
   "cell_type": "code",
   "execution_count": 3,
   "metadata": {},
   "outputs": [],
   "source": [
    "handler = DataHandler() \n",
    "#runner = KerasRunner(handler, epochs = 6, batch_size = 30)\n",
    "#data, postData = handler.getHeadPoseToPointingDataFor(subjId = 1, tName = 'infinity')"
   ]
  },
  {
   "cell_type": "code",
   "execution_count": 4,
   "metadata": {},
   "outputs": [
    {
     "data": {
      "text/plain": [
       "array([[ 3.83443465e+00,  2.91193379e+01,  3.41741807e+02,\n",
       "         4.32578620e-02, -1.11112867e-02, -5.34924959e-03],\n",
       "       [ 1.51382324e+01,  4.83093233e+01,  6.14964910e+02,\n",
       "        -4.45689193e-02,  9.67844844e-03, -4.25865828e-02],\n",
       "       [ 2.01238054e+01,  5.64373896e+01,  7.27673541e+02,\n",
       "        -8.96726042e-02,  2.09115749e-02, -5.98431857e-02],\n",
       "       ...,\n",
       "       [ 8.47749398e+00,  5.85739310e+01,  7.37780294e+02,\n",
       "        -7.82666865e-03,  9.16144151e-02, -5.90438096e-02],\n",
       "       [ 9.90765697e+00,  5.81152477e+01,  7.35765336e+02,\n",
       "        -2.91894523e-03,  8.21328549e-02, -5.27426106e-02],\n",
       "       [ 1.19158419e+01,  5.73732349e+01,  7.33128529e+02,\n",
       "        -3.11136035e-03,  6.60837246e-02, -5.71712290e-02]])"
      ]
     },
     "execution_count": 4,
     "metadata": {},
     "output_type": "execute_result"
    }
   ],
   "source": [
    "postData"
   ]
  },
  {
   "cell_type": "code",
   "execution_count": null,
   "metadata": {},
   "outputs": [],
   "source": [
    "sList = [1, 2] # , 3\n",
    "runner = KerasRunner(handler, epochs = 6, batch_size = 30)\n",
    "runner.runFCNExpOnSubjectList(sList)"
   ]
  },
  {
   "cell_type": "code",
   "execution_count": 4,
   "metadata": {},
   "outputs": [
    {
     "name": "stdout",
     "output_type": "stream",
     "text": [
      "Osman\n"
     ]
    }
   ],
   "source": [
    " pairs = handler.getAllHeadPoseToPointingPairs(1)"
   ]
  },
  {
   "cell_type": "code",
   "execution_count": 5,
   "metadata": {},
   "outputs": [
    {
     "data": {
      "text/plain": [
       "{}"
      ]
     },
     "execution_count": 5,
     "metadata": {},
     "output_type": "execute_result"
    }
   ],
   "source": [
    "pairs"
   ]
  },
  {
   "cell_type": "code",
   "execution_count": 10,
   "metadata": {},
   "outputs": [
    {
     "name": "stdout",
     "output_type": "stream",
     "text": [
      "/home/cicekm/sets/WhiteBallExp/PostDataFolders/PostData_pnp_kf/\n"
     ]
    }
   ],
   "source": [
    "print(handler.postDataFolder)"
   ]
  },
  {
   "cell_type": "code",
   "execution_count": null,
   "metadata": {},
   "outputs": [],
   "source": []
  }
 ],
 "metadata": {
  "kernelspec": {
   "display_name": "Python 3",
   "language": "python",
   "name": "python3"
  },
  "language_info": {
   "codemirror_mode": {
    "name": "ipython",
    "version": 3
   },
   "file_extension": ".py",
   "mimetype": "text/x-python",
   "name": "python",
   "nbconvert_exporter": "python",
   "pygments_lexer": "ipython3",
   "version": "3.6.8"
  }
 },
 "nbformat": 4,
 "nbformat_minor": 4
}
